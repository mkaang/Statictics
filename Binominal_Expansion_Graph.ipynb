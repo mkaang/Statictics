{
  "nbformat": 4,
  "nbformat_minor": 0,
  "metadata": {
    "colab": {
      "name": "Binominal Expansion Graph",
      "version": "0.3.2",
      "provenance": [],
      "collapsed_sections": [],
      "include_colab_link": true
    },
    "kernelspec": {
      "name": "python3",
      "display_name": "Python 3"
    }
  },
  "cells": [
    {
      "cell_type": "markdown",
      "metadata": {
        "id": "view-in-github",
        "colab_type": "text"
      },
      "source": [
        "<a href=\"https://colab.research.google.com/github/mkaang/Statictics/blob/master/Binominal_Expansion_Graph.ipynb\" target=\"_parent\"><img src=\"https://colab.research.google.com/assets/colab-badge.svg\" alt=\"Open In Colab\"/></a>"
      ]
    },
    {
      "cell_type": "markdown",
      "metadata": {
        "id": "MDRrvMMjl-4T",
        "colab_type": "text"
      },
      "source": [
        "# Bishop - Pattern Recognition Figure 2.1\n",
        "Histogram Plot of The Binominal Distribution as a function of m for N = 10 and {\\displaystyle \\mu } \\mu   = 0.25"
      ]
    },
    {
      "cell_type": "code",
      "metadata": {
        "id": "tFFJhN4QYA7X",
        "colab_type": "code",
        "colab": {}
      },
      "source": [
        "from scipy.special import binom\n",
        "import numpy as np\n",
        "\n",
        "N = 10\n",
        "Mu = 0.25\n",
        "\n",
        "bnmDist = []\n",
        "\n",
        "for m in range(N):\n",
        "  bnm = scipy.special.binom(N, m) * np.power(Mu, m) * np.power((1 - Mu), (N - m))\n",
        "  bnmDist.append(bnm)\n",
        "  "
      ],
      "execution_count": 0,
      "outputs": []
    },
    {
      "cell_type": "code",
      "metadata": {
        "id": "CbcTi05Bgxpc",
        "colab_type": "code",
        "colab": {
          "base_uri": "https://localhost:8080/",
          "height": 298
        },
        "outputId": "c0764dfa-dfb6-4ef8-f35e-254e4ad126c0"
      },
      "source": [
        "import matplotlib.pyplot as plt\n",
        "\n",
        "plt.title('N = 10, Mu = 0.25')\n",
        "plt.bar(range(10), bnmDist)\n",
        "print(np.sum(bnmDist))"
      ],
      "execution_count": 38,
      "outputs": [
        {
          "output_type": "stream",
          "text": [
            "0.9999990463256836\n"
          ],
          "name": "stdout"
        },
        {
          "output_type": "display_data",
          "data": {
            "image/png": "[encoded data removed]",
            "text/plain": [
              "<Figure size 432x288 with 1 Axes>"
            ]
          },
          "metadata": {
            "tags": []
          }
        }
      ]
    },
    {
      "cell_type": "code",
      "metadata": {
        "id": "27hEK8Wgj3OM",
        "colab_type": "code",
        "colab": {}
      },
      "source": [
        ""
      ],
      "execution_count": 0,
      "outputs": []
    }
  ]
}